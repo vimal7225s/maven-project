{
  "nbformat": 4,
  "nbformat_minor": 0,
  "metadata": {
    "colab": {
      "provenance": [],
      "authorship_tag": "ABX9TyNrVcbj74XIPI2w4L7yeFzk",
      "include_colab_link": true
    },
    "kernelspec": {
      "name": "python3",
      "display_name": "Python 3"
    },
    "language_info": {
      "name": "python"
    }
  },
  "cells": [
    {
      "cell_type": "markdown",
      "metadata": {
        "id": "view-in-github",
        "colab_type": "text"
      },
      "source": [
        "<a href=\"https://colab.research.google.com/github/vimal7225s/maven-project/blob/master/datatypes.ipynb\" target=\"_parent\"><img src=\"https://colab.research.google.com/assets/colab-badge.svg\" alt=\"Open In Colab\"/></a>"
      ]
    },
    {
      "cell_type": "code",
      "execution_count": 12,
      "metadata": {
        "colab": {
          "base_uri": "https://localhost:8080/"
        },
        "id": "7dhcol9xzBg_",
        "outputId": "105a365c-ca97-4ff0-9393-9cfd9150875d"
      },
      "outputs": [
        {
          "output_type": "stream",
          "name": "stdout",
          "text": [
            "<class 'float'>\n",
            "<class 'int'>\n",
            "<class 'float'>\n",
            "112.05\n"
          ]
        }
      ],
      "source": [
        "#data types\n",
        "#numbers\n",
        "\n",
        "n1 = 100 #integer\n",
        "n2 = 45.36 #float\n",
        "n3 = 12+10j #complex\n",
        "\n",
        "print ( type(n2))\n",
        "\n",
        "#dynamic typing\n",
        "\n",
        "var1=56\n",
        "print(type(var1))\n",
        "var2=56.05\n",
        "print(type(var2))\n",
        "var=var1+var2\n",
        "print(var)"
      ]
    }
  ]
}